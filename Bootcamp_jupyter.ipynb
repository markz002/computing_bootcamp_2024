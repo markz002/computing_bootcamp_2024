{
 "cells": [
  {
   "cell_type": "code",
   "execution_count": null,
   "id": "9937efb3-9ca5-41a6-be49-3cfee0b3a80f",
   "metadata": {},
   "outputs": [],
   "source": [
    "2+2"
   ]
  },
  {
   "cell_type": "markdown",
   "id": "ca6ed420-d2aa-45f7-a8d1-227ea6af66bc",
   "metadata": {},
   "source": [
    "Hello world\n",
    "\n",
    "$$ y = 2x $$"
   ]
  },
  {
   "cell_type": "code",
   "execution_count": null,
   "id": "3b0c9cd9-1211-444e-aeef-976a9231159e",
   "metadata": {},
   "outputs": [],
   "source": []
  }
 ],
 "metadata": {
  "kernelspec": {
   "display_name": "Python 3 (ipykernel)",
   "language": "python",
   "name": "python3"
  },
  "language_info": {
   "codemirror_mode": {
    "name": "ipython",
    "version": 3
   },
   "file_extension": ".py",
   "mimetype": "text/x-python",
   "name": "python",
   "nbconvert_exporter": "python",
   "pygments_lexer": "ipython3",
   "version": "3.12.4"
  }
 },
 "nbformat": 4,
 "nbformat_minor": 5
}
